{
 nnnnnnnnn

  "nbformat": 4,
  "nbformat_minor": 0,
  "metadata": {
    "colab": {
      "name": "funciones_a_trozos.ipynb",
      "provenance": [],
      "collapsed_sections": [],
      "authorship_tag": "ABX9TyMylOBw7AcsYEg/RdF0k+W+",
      "include_colab_link": true
    },
    "kernelspec": {
      "name": "python3",
      "display_name": "Python 3"
    },
    "language_info": {
      "name": "python"
    }
  },
  "cells": [
    {
      "cell_type": "markdown",
      "metadata": {
        "id": "view-in-github",
        "colab_type": "text"
      },
      "source": [
        "<a href=\"https://colab.research.google.com/github/AnibalCaceresC/METODO-DE-ELEMENTOS-FINITOS/blob/main/MODULOS/funciones_a_trozos.ipynb\" target=\"_parent\"><img src=\"https://colab.research.google.com/assets/colab-badge.svg\" alt=\"Open In Colab\"/></a>"
      ]
    },
    {
      "cell_type": "code",
      "execution_count": 1,
      "metadata": {
        "id": "BiLdbZZbcupz"
      },
      "outputs": [],
      "source": [
        "'Modulo para la formacion de las funciones a trozos(orden 1)'\n",
        "\n",
        "import sympy\n",
        "from sympy import *\n",
        "import pprint\n",
        "\n",
        "x=sympy.symbols('x')      #definimos la variable x\n",
        "\n",
        "\n",
        "def funcion_sombrero1(nodos,i):\n",
        "  return sympy.Piecewise((0, x<nodos[i-1]),\n",
        "                           ((x-nodos[i-1])/(nodos[i]-nodos[i-1]), x<=nodos[i]),\n",
        "                           ((nodos[i+1]-x)/(nodos[i+1]-nodos[i]), x<=nodos[i+1]),\n",
        "                           (0, x>nodos[i+1]))\n",
        "\n",
        "\n",
        "\n",
        "\n",
        "'Modulo para la formacion de las funciones a trozos(orden 2)'\n",
        "\n",
        "\n",
        "def funcion_sombrero2(nodos,i):\n",
        "  if i%2==0:\n",
        "      return sympy.Piecewise((0, x<nodos[i-2]),(((x-nodos[i-1])*(x-nodos[i-2]))/((nodos[i]-nodos[i-1])*(nodos[i]-nodos[i-2])), x<=nodos[i]),\n",
        "                           (((nodos[i+1]-x)*(nodos[i+2]-x))/((nodos[i+1]-nodos[i])*(nodos[i+2]-nodos[i])), x<=nodos[i+2]),\n",
        "                           (0, x>nodos[i+2]))    \n",
        "  else:\n",
        "      return sympy.Piecewise((0, x<nodos[i-1]),(((nodos[i+1]-x)*(x-nodos[i-1]))/((nodos[i+1]-nodos[i])*(nodos[i]-nodos[i-1])), x<=nodos[i+1]),\n",
        "                           (0, x>nodos[i+1]))\n",
        "    \n",
        "\n",
        "\n",
        "\n"
      ]
    }
  ]
}
