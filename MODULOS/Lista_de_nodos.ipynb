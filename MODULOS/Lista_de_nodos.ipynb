{
  "nbformat": 4,
  "nbformat_minor": 0,
  "metadata": {
    "colab": {
      "name": "Lista de nodos.ipynb",
      "provenance": [],
      "collapsed_sections": [],
      "authorship_tag": "ABX9TyNHG+/tP+se0Gs6142i8/l7",
      "include_colab_link": true
    },
    "kernelspec": {
      "name": "python3",
      "display_name": "Python 3"
    },
    "language_info": {
      "name": "python"
    }
  },
  "cells": [
    {
      "cell_type": "markdown",
      "metadata": {
        "id": "view-in-github",
        "colab_type": "text"
      },
      "source": [
        "<a href=\"https://colab.research.google.com/github/AnibalCaceresC/METODO-DE-ELEMENTOS-FINITOS/blob/main/MODULOS/Lista_de_nodos.ipynb\" target=\"_parent\"><img src=\"https://colab.research.google.com/assets/colab-badge.svg\" alt=\"Open In Colab\"/></a>"
      ]
    },
    {
      "cell_type": "code",
      "execution_count": 1,
      "metadata": {
        "id": "K_QvPsAQ3OC-"
      },
      "outputs": [],
      "source": [
        "'Generacion de lista de nodos de la Malla uniforme'\n",
        "\n",
        "import sympy\n",
        "from sympy import *\n",
        "import pprint\n",
        "\n",
        "\n",
        "def nodos1(a,n,h):\n",
        "  nodos = []\n",
        "  for i in range(n):\n",
        "    nodos.append(a+h*i)\n",
        "  return nodos\n",
        "\n",
        "\n",
        "\n",
        "\n",
        "def nodos2(a,n,h):\n",
        "  nodos = []\n",
        "  for i in range((2*n)-1):\n",
        "    nodos.append(a+(h/2)*i)\n",
        "  return nodos\n",
        "\n",
        "\n",
        "\n",
        "\n"
      ]
    }
  ]
}